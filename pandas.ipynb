{
 "cells": [
  {
   "cell_type": "code",
   "execution_count": 1,
   "metadata": {},
   "outputs": [],
   "source": [
    "import pandas as pd"
   ]
  },
  {
   "cell_type": "code",
   "execution_count": 2,
   "metadata": {},
   "outputs": [
    {
     "name": "stdout",
     "output_type": "stream",
     "text": [
      "India    1\n",
      "USA      2\n",
      "UK       3\n",
      "Japan    4\n",
      "China    5\n",
      "dtype: int64\n",
      "\n",
      "\n",
      "India       1\n",
      "Germany     7\n",
      "France      8\n",
      "Italy       9\n",
      "Spain      10\n",
      "dtype: int64\n"
     ]
    },
    {
     "data": {
      "text/plain": [
       "China      NaN\n",
       "France     NaN\n",
       "Germany    NaN\n",
       "India      2.0\n",
       "Italy      NaN\n",
       "Japan      NaN\n",
       "Spain      NaN\n",
       "UK         NaN\n",
       "USA        NaN\n",
       "dtype: float64"
      ]
     },
     "execution_count": 2,
     "metadata": {},
     "output_type": "execute_result"
    }
   ],
   "source": [
    "list1 = [1, 2, 3, 4, 5]\n",
    "country1 = ['India', 'USA', 'UK', 'Japan', 'China']\n",
    "ser1 = pd.Series(list1 , country1)\n",
    "print(ser1)\n",
    "print(\"\\n\")\n",
    "list2 = [1, 7, 8, 9, 10]\n",
    "country2 = ['India', 'Germany', 'France', 'Italy', 'Spain']\n",
    "ser2 = pd.Series(list2 , country2)\n",
    "print(ser2)\n",
    "\n",
    "ser1+ser2"
   ]
  },
  {
   "cell_type": "code",
   "execution_count": 13,
   "metadata": {},
   "outputs": [
    {
     "name": "stdout",
     "output_type": "stream",
     "text": [
      "1     Mehul\n",
      "2     Harsh\n",
      "3     Ashay\n",
      "4    Aditya\n",
      "dtype: object\n",
      "1     Mehul\n",
      "3     Mehul\n",
      "2     Harsh\n",
      "5    Aditya\n",
      "dtype: object\n",
      "\n",
      "\n",
      "1    MehulMehul\n",
      "2    HarshHarsh\n",
      "3    AshayMehul\n",
      "4           NaN\n",
      "5           NaN\n",
      "dtype: object\n"
     ]
    }
   ],
   "source": [
    "ser1 = [1,2,3,4]\n",
    "names1 = [\"Mehul\", \"Harsh\", \"Ashay\", \"Aditya\"]\n",
    "\n",
    "panda1 = pd.Series(names1,ser1)\n",
    "print(panda1)\n",
    "\n",
    "ser2 = [1,3,2,5]\n",
    "names2 = [\"Mehul\", \"Mehul\", \"Harsh\", \"Aditya\"]\n",
    "panda2 = pd.Series(names2, ser2)\n",
    "print(panda2)\n",
    "print(\"\\n\")\n",
    "print(panda1+panda2)"
   ]
  },
  {
   "cell_type": "code",
   "execution_count": null,
   "metadata": {},
   "outputs": [],
   "source": []
  }
 ],
 "metadata": {
  "kernelspec": {
   "display_name": "base",
   "language": "python",
   "name": "python3"
  },
  "language_info": {
   "codemirror_mode": {
    "name": "ipython",
    "version": 3
   },
   "file_extension": ".py",
   "mimetype": "text/x-python",
   "name": "python",
   "nbconvert_exporter": "python",
   "pygments_lexer": "ipython3",
   "version": "3.10.9"
  },
  "orig_nbformat": 4
 },
 "nbformat": 4,
 "nbformat_minor": 2
}
